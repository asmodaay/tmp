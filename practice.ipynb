{
 "cells": [
  {
   "cell_type": "code",
   "execution_count": 1,
   "metadata": {},
   "outputs": [],
   "source": [
    "import numpy as np"
   ]
  },
  {
   "cell_type": "code",
   "execution_count": 2,
   "metadata": {},
   "outputs": [],
   "source": [
    "from sympy import *"
   ]
  },
  {
   "cell_type": "code",
   "execution_count": 3,
   "metadata": {},
   "outputs": [],
   "source": [
    "w0 = Symbol('w0')\n",
    "w1 = Symbol('w1')\n",
    "w2 = Symbol('w2')"
   ]
  },
  {
   "cell_type": "code",
   "execution_count": 4,
   "metadata": {},
   "outputs": [],
   "source": [
    "a = np.array([[0,3,0],\n",
    "              [1,2,1],\n",
    "              [2,1,0],\n",
    "              [3,0,3]])"
   ]
  },
  {
   "cell_type": "code",
   "execution_count": 5,
   "metadata": {},
   "outputs": [
    {
     "name": "stdout",
     "output_type": "stream",
     "text": [
      "[[0 3 0]\n",
      " [1 2 1]\n",
      " [2 1 0]\n",
      " [3 0 3]]\n"
     ]
    }
   ],
   "source": [
    "print(a)"
   ]
  },
  {
   "cell_type": "code",
   "execution_count": 51,
   "metadata": {},
   "outputs": [
    {
     "name": "stdout",
     "output_type": "stream",
     "text": [
      "w0**2 + w1**2 + w2**2 + (w0 + 3*w2)**2 + (w0 + 2*w1 + w2)**2 + (w0 + 3*w1 - 3)**2 + (w0 + w1 + 2*w2 - 1)**2\n"
     ]
    }
   ],
   "source": [
    "print(f)"
   ]
  },
  {
   "cell_type": "code",
   "execution_count": 52,
   "metadata": {},
   "outputs": [],
   "source": [
    "f += w1**2 + w2**2 + w0**2"
   ]
  },
  {
   "cell_type": "code",
   "execution_count": 53,
   "metadata": {},
   "outputs": [],
   "source": [
    "f0prime = f.diff(w0)\n",
    "f1prime = f.diff(w1)\n",
    "f2prime = f.diff(w2)"
   ]
  },
  {
   "cell_type": "code",
   "execution_count": 54,
   "metadata": {},
   "outputs": [
    {
     "name": "stdout",
     "output_type": "stream",
     "text": [
      "12*w0 + 12*w1 + 12*w2 - 8\n",
      "12*w0 + 32*w1 + 8*w2 - 20\n",
      "12*w0 + 8*w1 + 32*w2 - 4\n"
     ]
    }
   ],
   "source": [
    "print(f0prime)\n",
    "print(f1prime)\n",
    "print(f2prime)"
   ]
  },
  {
   "cell_type": "code",
   "execution_count": 64,
   "metadata": {},
   "outputs": [],
   "source": [
    "m1 = np.array([[10.,12.,12.],\n",
    "               [12.,30.,8.],\n",
    "               [12.,8.,30.]])\n",
    "v1 = np.array([8.,20.,4.])"
   ]
  },
  {
   "cell_type": "code",
   "execution_count": 65,
   "metadata": {},
   "outputs": [],
   "source": [
    "b = np.linalg.solve(m1, v1)"
   ]
  },
  {
   "cell_type": "code",
   "execution_count": 72,
   "metadata": {},
   "outputs": [
    {
     "name": "stdout",
     "output_type": "stream",
     "text": [
      "w0 = 0.17\n",
      "w1 = 0.62\n",
      "w2 = -0.1\n"
     ]
    }
   ],
   "source": [
    "for i in range(len(b)):\n",
    "    print('w' + str(i) +' = ' + str(round(b[i],2)))"
   ]
  },
  {
   "cell_type": "code",
   "execution_count": null,
   "metadata": {},
   "outputs": [],
   "source": []
  }
 ],
 "metadata": {
  "kernelspec": {
   "display_name": "Python 3",
   "language": "python",
   "name": "python3"
  },
  "language_info": {
   "codemirror_mode": {
    "name": "ipython",
    "version": 3
   },
   "file_extension": ".py",
   "mimetype": "text/x-python",
   "name": "python",
   "nbconvert_exporter": "python",
   "pygments_lexer": "ipython3",
   "version": "3.7.1"
  }
 },
 "nbformat": 4,
 "nbformat_minor": 2
}
